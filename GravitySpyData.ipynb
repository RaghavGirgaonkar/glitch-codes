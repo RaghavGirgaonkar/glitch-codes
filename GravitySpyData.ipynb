{
 "cells": [
  {
   "cell_type": "code",
   "execution_count": 2,
   "id": "61077ef0",
   "metadata": {},
   "outputs": [],
   "source": [
    "# # Glitch information and data files from Gravity Spy\n",
    "\n",
    "# The Gravity spy database is available on Zenodo.\n",
    "# * https://zenodo.org/record/5649212#.Y46Cty-B1OM (The instructions below are from this link.)\n",
    "# * https://zenodo.org/record/1476551#.Y46Cni-B1OP\n",
    "#\n",
    "# The database is in the form of downloadable CSV files, available from the first link, corresponding to different detector and observation run combinations.\n",
    "#\n",
    "# * Note: Do not commit this notebook to Git, but the corresponding .py script that is created each time this notebook is saved (checkpointed). Use the save icon in the ribbon for checkpointing.\n",
    "\n",
    "import gwpy\n",
    "from gwpy.table import GravitySpyTable\n",
    "import math\n",
    "#import urllib.request\n",
    "#The 'requests' module is more friendly than the urllib.request module\n",
    "import requests\n",
    "import wget\n",
    "import json\n",
    "import h5py\n",
    "from urllib.parse import urlparse\n",
    "from pathlib import Path\n",
    "import matplotlib\n",
    "import matplotlib.pyplot as pyplot"
   ]
  },
  {
   "cell_type": "code",
   "execution_count": 3,
   "id": "9f11509b",
   "metadata": {},
   "outputs": [
    {
     "name": "stdout",
     "output_type": "stream",
     "text": [
      "<class 'gwpy.table.gravityspy.GravitySpyTable'>\n",
      "['event_time', 'ifo', 'peak_time', 'peak_time_ns', 'start_time', 'start_time_ns', 'duration', 'peak_frequency', 'central_freq', 'bandwidth', 'channel', 'amplitude', 'snr', 'q_value', 'gravityspy_id', '1400Ripples', '1080Lines', 'Air_Compressor', 'Blip', 'Chirp', 'Extremely_Loud', 'Helix', 'Koi_Fish', 'Light_Modulation', 'Low_Frequency_Burst', 'Low_Frequency_Lines', 'No_Glitch', 'None_of_the_Above', 'Paired_Doves', 'Power_Line', 'Repeating_Blips', 'Scattered_Light', 'Scratchy', 'Tomte', 'Violin_Mode', 'Wandering_Line', 'Whistle', 'ml_label', 'ml_confidence', 'url1', 'url2', 'url3', 'url4']\n"
     ]
    }
   ],
   "source": [
    "#Detector name; Choices: H1, L1\n",
    "detector = 'H1'\n",
    "#Observation run; Choices: O1, O2, O3a, O3b\n",
    "obsRun = 'O2'\n",
    "dataBasePath = '/Users/kqa493/Desktop/GLITCH'\n",
    "dataBaseFile = detector+'_'+obsRun+'.csv'\n",
    "dataBaseContent = GravitySpyTable.read(dataBasePath+'/'+dataBaseFile)\n",
    "print(type(dataBaseContent))\n",
    "print(dataBaseContent.colnames)"
   ]
  },
  {
   "cell_type": "code",
   "execution_count": 4,
   "id": "76274c10",
   "metadata": {},
   "outputs": [],
   "source": [
    "# The columns in the CSV files contain the quantities below.\n",
    "#\n",
    "# ‘event_time’, ‘ifo’, ‘peak_time’, ‘peak_time_ns’, ‘start_time’, ‘start_time_ns’, ‘duration’, ‘peak_frequency’, ‘central_freq’, ‘bandwidth’, ‘channel’, ‘amplitude’, ‘snr’, ‘q_value’ contain metadata about the signal from the Omicron pipeline. \n",
    "#\n",
    "# ‘gravityspy_id’ is the unique identifier for each glitch in the dataset. \n",
    "#\n",
    "# the column names ‘1400Ripples’, ‘1080Lines’, ‘Air_Compressor’, ‘Blip’, ‘Chirp’, ‘Extremely_Loud’, ‘Helix’, \n",
    "#‘Koi_Fish’, ‘Light_Modulation’, ‘Low_Frequency_Burst’, ‘Low_Frequency_Lines’, ‘No_Glitch’, ‘None_of_the_Above’, \n",
    "#‘Paired_Doves’, ‘Power_Line’, ‘Repeating_Blips’, ‘Scattered_Light’, ‘Scratchy’, ‘Tomte’, ‘Violin_Mode’, \n",
    "#‘Wandering_Line’, and ‘Whistle’ are Gravity Spy class names for glitches. \n",
    "\n",
    "#Each column contains the machine learning confidence for a glitch being in that named class. \n",
    "#The sum of all the confidence values should sum to unity. \n",
    "#\n",
    "# ‘ml_label’, ‘ml_confidence’ contain the machine learning predicted labels for the glitches and the associated machine learning confidences in their classification. The 'ml_confidence' value for a glitch is the maximum machine learning confidence across all the Gravity Spy class names listed above. The 'ml_label' entry is simply the associated Gravity Spy class name."
   ]
  },
  {
   "cell_type": "code",
   "execution_count": 54,
   "id": "10cb5269",
   "metadata": {},
   "outputs": [
    {
     "name": "stdout",
     "output_type": "stream",
     "text": [
      "   event_time    start_time start_time_ns duration       snr        ml_confidence \n",
      "---------------- ---------- ------------- -------- ---------------- --------------\n",
      "1168043888.60938 1168043888     500000000      4.0 7.62859010696411 0.931653141975\n",
      "1175690460.34375 1175690460             0    0.625          7.83551 0.992492437363\n",
      "1181377817.29688 1181377816     625000000    1.125         18.19544 0.846429765224\n",
      "1171384737.64844 1171384737     437500000    0.625 8.16009044647217  0.94430321455\n",
      "1175172446.35156 1175172446     125000000    0.625          8.85488 0.894140958786\n",
      "1176947165.50781 1176947165     250000000      0.5          8.94014 0.844712853432\n",
      "1165891243.09375 1165891242     875000000      0.5 7.65559005737305 0.927055537701\n",
      "1178175243.65625 1178175243     125000000    0.875          8.94958 0.948795795441\n",
      " 1174729970.5625 1174729970     250000000    0.625           8.2936 0.917154073715\n",
      " 1164604070.4375 1164604070             0    0.875 10.3290500640869   0.8004078269\n",
      "1181377330.95312 1181377330     625000000      0.5          8.20746  0.97204887867\n",
      "1174477597.21875 1174477596     875000000    0.625          8.15254 0.883053064346\n",
      "1170722101.34375 1170722101             0      1.5 8.02805995941162 0.845760345459\n",
      "1181376320.85156 1181376320     625000000    0.375          7.86758 0.912792086601\n",
      "1175893190.65625 1175893190     375000000    0.625          7.80033 0.944913387299\n",
      "1176365327.13281 1176365326     986572027  0.26343          7.58526 0.801962137222\n",
      "1181378574.73438 1181378574     437500000   0.5625          9.74579 0.917357861996\n",
      "1181377284.39062 1181377284             0     0.75          7.96272 0.859512090683\n",
      "1171534497.21875 1171534496     875000000    0.625 7.73683023452759 0.914668321609\n",
      "1171106583.54688 1171106583     250000000    0.875 8.00321006774902 0.964909851551\n",
      "1170578155.28125 1170578155             0     0.75  7.6809401512146  0.92672431469\n",
      "1170709284.82031 1170709284     500000000     0.75 10.0876703262329 0.915116608143\n"
     ]
    }
   ],
   "source": [
    "# ## Glitch class and selection criteria\n",
    "\n",
    "glitchClass = 'Air_Compressor'\n",
    "ml_confidence_threshold = 0.80\n",
    "\n",
    "extractTable = dataBaseContent[(dataBaseContent[\"ml_label\"] == glitchClass) & (dataBaseContent[\"ml_confidence\"] > ml_confidence_threshold)]\n",
    "print(extractTable['event_time', 'start_time', 'start_time_ns', 'duration', 'snr', 'ml_confidence'])"
   ]
  },
  {
   "cell_type": "code",
   "execution_count": 55,
   "id": "350456a2",
   "metadata": {},
   "outputs": [
    {
     "name": "stdout",
     "output_type": "stream",
     "text": [
      "   event_time    start_time start_time_ns duration       snr        ml_confidence \n",
      "---------------- ---------- ------------- -------- ---------------- --------------\n",
      "1168043888.60938 1168043888     500000000      4.0 7.62859010696411 0.931653141975\n"
     ]
    }
   ],
   "source": [
    "# We can do more refined cuts on the above table, such as pick the loudest glitch. \n",
    "\n",
    "snr = list(extractTable['duration'])\n",
    "indxMaxSnr = snr.index(max(snr))\n",
    "print(extractTable['event_time', 'start_time', 'start_time_ns', 'duration', 'snr', 'ml_confidence'][indxMaxSnr])"
   ]
  },
  {
   "cell_type": "code",
   "execution_count": 56,
   "id": "b9e226d7",
   "metadata": {},
   "outputs": [
    {
     "name": "stdout",
     "output_type": "stream",
     "text": [
      "   event_time    start_time start_time_ns duration       snr        ml_confidence \n",
      "---------------- ---------- ------------- -------- ---------------- --------------\n",
      "1168043888.60938 1168043888     500000000      4.0 7.62859010696411 0.931653141975\n",
      "   event_time    start_time start_time_ns duration       snr        ml_confidence \n",
      "---------------- ---------- ------------- -------- ---------------- --------------\n",
      "1170722101.34375 1170722101             0      1.5 8.02805995941162 0.845760345459\n",
      "   event_time    start_time start_time_ns duration   snr    ml_confidence \n",
      "---------------- ---------- ------------- -------- -------- --------------\n",
      "1181377817.29688 1181377816     625000000    1.125 18.19544 0.846429765224\n",
      "   event_time    start_time start_time_ns duration   snr   ml_confidence \n",
      "---------------- ---------- ------------- -------- ------- --------------\n",
      "1178175243.65625 1178175243     125000000    0.875 8.94958 0.948795795441\n",
      "   event_time    start_time start_time_ns duration   snr   ml_confidence \n",
      "---------------- ---------- ------------- -------- ------- --------------\n",
      "1178175243.65625 1178175243     125000000    0.875 8.94958 0.948795795441\n",
      "   event_time    start_time start_time_ns duration   snr   ml_confidence \n",
      "---------------- ---------- ------------- -------- ------- --------------\n",
      "1178175243.65625 1178175243     125000000    0.875 8.94958 0.948795795441\n",
      "   event_time    start_time start_time_ns duration   snr   ml_confidence \n",
      "---------------- ---------- ------------- -------- ------- --------------\n",
      "1181377284.39062 1181377284             0     0.75 7.96272 0.859512090683\n",
      "   event_time    start_time start_time_ns duration   snr   ml_confidence \n",
      "---------------- ---------- ------------- -------- ------- --------------\n",
      "1181377284.39062 1181377284             0     0.75 7.96272 0.859512090683\n",
      "   event_time    start_time start_time_ns duration   snr   ml_confidence \n",
      "---------------- ---------- ------------- -------- ------- --------------\n",
      "1181377284.39062 1181377284             0     0.75 7.96272 0.859512090683\n",
      "   event_time    start_time start_time_ns duration   snr   ml_confidence \n",
      "---------------- ---------- ------------- -------- ------- --------------\n",
      "1175690460.34375 1175690460             0    0.625 7.83551 0.992492437363\n"
     ]
    }
   ],
   "source": [
    "snrSort = sorted(snr,reverse=True)\n",
    "# dur_snr_sort = sorted()\n",
    "for k in range(0,10):\n",
    "    indxSortSnr = snr.index(snrSort[k]);\n",
    "    print(extractTable['event_time', 'start_time', 'start_time_ns', 'duration', 'snr', 'ml_confidence'][indxSortSnr])"
   ]
  },
  {
   "cell_type": "code",
   "execution_count": 57,
   "id": "d2f5681e",
   "metadata": {},
   "outputs": [
    {
     "name": "stdout",
     "output_type": "stream",
     "text": [
      "   event_time    start_time start_time_ns duration       snr        ml_confidence \n",
      "---------------- ---------- ------------- -------- ---------------- --------------\n",
      "1168043888.60938 1168043888     500000000      4.0 7.62859010696411 0.931653141975\n",
      "https://panoptes-uploads.zooniverse.org/production/subject_location/be56ff50-44d7-4c4d-b1e0-cf111a298eda.png\n"
     ]
    }
   ],
   "source": [
    "omgScanIndx = snr.index(snrSort[0])\n",
    "print(extractTable['event_time', 'start_time', 'start_time_ns', 'duration', 'snr', 'ml_confidence'][omgScanIndx])\n",
    "print(extractTable['url4'][omgScanIndx])"
   ]
  },
  {
   "cell_type": "code",
   "execution_count": 58,
   "id": "645ec1ed",
   "metadata": {},
   "outputs": [],
   "source": [
    "\n",
    "# ## Data retrieval\n",
    "# One can use GPS information above for any given glitch and go to the GWOSC website to retrieve the corresponding HDF5 data file. In the GWOSC website, under 'Data', use the web form to enter the detector name, the observation run, and the GPS time. \n",
    "#\n",
    "# We can also fetch the GWOSC data file for a glitch directly.\n",
    "\n",
    "glitchStrtTime = extractTable['start_time'][omgScanIndx]\n",
    "#Construct URL query to GWOSC for JSON string\n",
    "urlStr = 'https://www.gw-openscience.org/archive/links/'+obsRun+'_4KHZ_R1/'+detector+'/'+str(glitchStrtTime)+'/'+str(glitchStrtTime+10)+'/json/'"
   ]
  },
  {
   "cell_type": "code",
   "execution_count": 59,
   "id": "6eca8994",
   "metadata": {},
   "outputs": [
    {
     "name": "stdout",
     "output_type": "stream",
     "text": [
      "{\n",
      "  \"dataset\": \"O2_4KHZ_R1\",\n",
      "  \"GPSstart\": 1168043888,\n",
      "  \"GPSend\": 1168043898,\n",
      "  \"strain\": [\n",
      "    {\n",
      "      \"GPSstart\": 1168039936,\n",
      "      \"UTCstart\": \"2017-01-09T23:31:58\",\n",
      "      \"detector\": \"H1\",\n",
      "      \"sampling_rate\": 4096,\n",
      "      \"duration\": 4096,\n",
      "      \"format\": \"hdf5\",\n",
      "      \"url\": \"https://gwosc.org/archive/data/O2_4KHZ_R1/1167065088/H-H1_GWOSC_O2_4KHZ_R1-1168039936-4096.hdf5\",\n",
      "      \"min_strain\": -1.38095212499713e-18,\n",
      "      \"max_strain\": 1.37258498942372e-18,\n",
      "      \"mean_strain\": -4.21690745064202e-23,\n",
      "      \"stdev_strain\": 5.39059014990845e-19,\n",
      "      \"duty_cycle\": 19.091796875,\n",
      "      \"BLRMS200\": 8.39691280187543e-24,\n",
      "      \"BLRMS1000\": 2.02648833261369e-21,\n",
      "      \"BNS\": 61.4322470275841\n",
      "    },\n",
      "    {\n",
      "      \"GPSstart\": 1168039936,\n",
      "      \"UTCstart\": \"2017-01-09T23:31:58\",\n",
      "      \"detector\": \"H1\",\n",
      "      \"sampling_rate\": 4096,\n",
      "      \"duration\": 4096,\n",
      "      \"format\": \"gwf\",\n",
      "      \"url\": \"https://gwosc.org/archive/data/O2_4KHZ_R1/1167065088/H-H1_GWOSC_O2_4KHZ_R1-1168039936-4096.gwf\",\n",
      "      \"min_strain\": -1.38095212499713e-18,\n",
      "      \"max_strain\": 1.37258498942372e-18,\n",
      "      \"mean_strain\": -4.21690745064202e-23,\n",
      "      \"stdev_strain\": 5.39059014990845e-19,\n",
      "      \"duty_cycle\": 19.091796875,\n",
      "      \"BLRMS200\": 8.39691280187543e-24,\n",
      "      \"BLRMS1000\": 2.02648833261369e-21,\n",
      "      \"BNS\": 61.4322470275841\n",
      "    }\n",
      "  ]\n",
      "}\n"
     ]
    }
   ],
   "source": [
    "resp = requests.get(urlStr)\n",
    "print(resp.text)"
   ]
  },
  {
   "cell_type": "code",
   "execution_count": 60,
   "id": "19f13312",
   "metadata": {},
   "outputs": [
    {
     "name": "stdout",
     "output_type": "stream",
     "text": [
      "https://gwosc.org/archive/data/O2_4KHZ_R1/1167065088/H-H1_GWOSC_O2_4KHZ_R1-1168039936-4096.hdf5\n"
     ]
    }
   ],
   "source": [
    "#Get data file url\n",
    "jsonObj = json.loads(resp.text)\n",
    "#The HDF5 url is in the first element of the list type value associated with the key called \"strain\"\n",
    "print(jsonObj['strain'][0]['url'])"
   ]
  },
  {
   "cell_type": "code",
   "execution_count": 61,
   "id": "b54db686",
   "metadata": {},
   "outputs": [
    {
     "name": "stdout",
     "output_type": "stream",
     "text": [
      "100% [........................................................................] 25470489 / 25470489"
     ]
    }
   ],
   "source": [
    "fileURL = jsonObj['strain'][0]['url']\n",
    "path = '/Users/kqa493/Desktop/GLITCH/GlitchFiles/AirCompressor'\n",
    "respFile = wget.download(fileURL, out = path)"
   ]
  },
  {
   "cell_type": "code",
   "execution_count": 62,
   "id": "8712fd89",
   "metadata": {},
   "outputs": [],
   "source": [
    "#Get the downloaded file's name \n",
    "downloadFilePath  = urlparse(fileURL).path\n",
    "downloadFileName = Path(downloadFilePath).stem"
   ]
  },
  {
   "cell_type": "code",
   "execution_count": 63,
   "id": "f7e48bb0",
   "metadata": {},
   "outputs": [
    {
     "data": {
      "text/plain": [
       "'H-H1_GWOSC_O2_4KHZ_R1-1168039936-4096'"
      ]
     },
     "execution_count": 63,
     "metadata": {},
     "output_type": "execute_result"
    }
   ],
   "source": [
    "downloadFileName"
   ]
  },
  {
   "cell_type": "code",
   "execution_count": 64,
   "id": "a1fc65f5",
   "metadata": {},
   "outputs": [],
   "source": [
    "#Read the strain data and make a plot\n",
    "fileHndl = h5py.File(path + '/'+ downloadFileName+'.hdf5')\n",
    "strainDset = fileHndl['strain/Strain']"
   ]
  },
  {
   "cell_type": "code",
   "execution_count": 65,
   "id": "2a17421b",
   "metadata": {},
   "outputs": [
    {
     "data": {
      "image/png": "[encoded data removed]",
      "text/plain": [
       "<Figure size 640x480 with 1 Axes>"
      ]
     },
     "metadata": {},
     "output_type": "display_data"
    }
   ],
   "source": [
    "fig, ax = pyplot.subplots()\n",
    "pyplot.plot(strainDset[:], linewidth=0.5)\n",
    "pyplot.show()"
   ]
  },
  {
   "cell_type": "code",
   "execution_count": 36,
   "id": "65255a29",
   "metadata": {},
   "outputs": [
    {
     "data": {
      "text/plain": [
       "1261"
      ]
     },
     "execution_count": 36,
     "metadata": {},
     "output_type": "execute_result"
    }
   ],
   "source": [
    "5949-4688\n"
   ]
  },
  {
   "cell_type": "code",
   "execution_count": null,
   "id": "461f9578",
   "metadata": {},
   "outputs": [],
   "source": []
  }
 ],
 "metadata": {
  "kernelspec": {
   "display_name": "Python 3 (ipykernel)",
   "language": "python",
   "name": "python3"
  },
  "language_info": {
   "codemirror_mode": {
    "name": "ipython",
    "version": 3
   },
   "file_extension": ".py",
   "mimetype": "text/x-python",
   "name": "python",
   "nbconvert_exporter": "python",
   "pygments_lexer": "ipython3",
   "version": "3.10.9"
  }
 },
 "nbformat": 4,
 "nbformat_minor": 5
}
