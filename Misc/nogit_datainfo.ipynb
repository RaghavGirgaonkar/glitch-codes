{
 "cells": [
  {
   "cell_type": "markdown",
   "id": "7c2e14f3",
   "metadata": {},
   "source": [
    "# Data files and interesting time intervals"
   ]
  },
  {
   "cell_type": "markdown",
   "id": "e2656104",
   "metadata": {},
   "source": [
    "This notebook lists some interesting data files, including data related specifically to glitches. Uncomment as needed to expose the required file. This notebook is executed by other notebooks (e.g., librosacqt.ipynb) to obtain the path to an input data file. This allows the other notebooks to be kept under version control without having to update the repository if the only change is in the file to be processed."
   ]
  },
  {
   "cell_type": "code",
   "execution_count": 1,
   "id": "1a75683b",
   "metadata": {},
   "outputs": [],
   "source": [
    "import math\n",
    "gwDataDir = '/Users/raghav/Desktop'\n",
    "glitchDir = gwDataDir + '/'+'GLITCH'\n",
    "#Path to the Gravity Spy databases\n",
    "dataBasePath = glitchDir + '/'+'GravitySpy'"
   ]
  },
  {
   "cell_type": "markdown",
   "id": "2882a745",
   "metadata": {},
   "source": [
    "## GW170817 Glitch"
   ]
  },
  {
   "cell_type": "code",
   "execution_count": 2,
   "id": "592d0073",
   "metadata": {},
   "outputs": [],
   "source": [
    "#fileName =  glitchDir+'/'+'L1-GW170817-Glitch/L-L1_GWOSC_O2_4KHZ_R1-1187008512-4096_DtrndWhtnBandpass.hdf5'\n",
    "#fileName =  glitchDir+'/'+'L1-GW170817-Glitch/SHAPESRun_112722_1154/L1-GW170817-Glitch_SHAPESRun_112722_1154.hdf5'\n",
    "#Data used in the adaptive spline paper: residual after glitch subtraction\n",
    "fileName = glitchDir+'/'+'L1-GW170817-Glitch/SHAPESRun_20230103T144237/Residual.hdf5'\n",
    "dataRange = list(range(360*4096,372*4096,1))\n",
    "tserPlotRange = list(range(math.floor(360*4096),math.floor(372*4096),1))\n",
    "CQTThresh = 5"
   ]
  },
  {
   "cell_type": "markdown",
   "id": "4f45f607",
   "metadata": {},
   "source": [
    "GW170817 data with injected whitened DNS signal with parameters $SNR=26.4\\times \\sqrt{2}$ and signal arrival time $t_a = 100$ sec from the start of the conditioned data"
   ]
  },
  {
   "cell_type": "code",
   "execution_count": 3,
   "id": "3dd3ec5f",
   "metadata": {},
   "outputs": [],
   "source": [
    "#fileName =  glitchDir+'/'+'L1-GW170817-Glitch/L-L1_GWOSC_O2_4KHZ_R1-1187008512-4096_DtrndWhtnBandpass_SigInj1.hdf5'\n",
    "#dataRange = list(range(150*4096,380*4096,1))\n",
    "#tserPlotRange = list(range(math.floor(360*4096),math.floor(372*4096),1))\n",
    "#CQTThresh = 5"
   ]
  },
  {
   "cell_type": "markdown",
   "id": "5793d912",
   "metadata": {},
   "source": [
    "## Tomte"
   ]
  },
  {
   "cell_type": "code",
   "execution_count": 4,
   "id": "ccea1bcf",
   "metadata": {},
   "outputs": [],
   "source": [
    "#fileName =  glitchDir+'/'+'TOMTE/L-L1_GWOSC_O3a_4KHZ_R1-1252900864-4096_dtrndWhtnBndpss.hdf5'\n",
    "#fileName =  glitchDir+'/'+'TOMTE/Test-L-L1_GWOSC_O3a_4KHZ_R1-1252900864-4096_dtrndWhtnBndpss_SigInj1.hdf5'\n",
    "#fileName =  glitchDir+'/'+'TOMTE/SHAPESRun_13-Dec-2022 18_39_30/Residual.hdf5'\n",
    "#fileName =  glitchDir+'/'+'TOMTE/H-H1_GWOSC_O2_4KHZ_R1-1173086208-4096_dtrndWhtnBndpss.hdf5'\n",
    "#dataRange = list(range(2587*4096,2599*4096,1))\n",
    "#fileName =  glitchDir+'/'+'TOMTE/SHAPESRun_21-Dec-2022 23:22:42/Residual.hdf5'"
   ]
  },
  {
   "cell_type": "markdown",
   "id": "784a39d1",
   "metadata": {},
   "source": [
    "Third loudest glitch in H1_O2 Gravity Spy database"
   ]
  },
  {
   "cell_type": "code",
   "execution_count": 5,
   "id": "7b1078ba",
   "metadata": {},
   "outputs": [],
   "source": [
    "#fileName =  glitchDir+'/'+'TOMTE/H-H1_GWOSC_O2_4KHZ_R1-1173086208-4096_dtrndWhtnBndpss_SigInj1.hdf5'\n",
    "#fileName =  glitchDir+'/'+'TOMTE/SHAPESRun_22-Dec-2022-00_51_28/Residual.hdf5'\n",
    "#dataRange = list(range(85*4096,100*4096,1))\n",
    "#tserPlotRange = list(range(math.floor(92.9*4096),math.floor(93.2*4096),1))\n",
    "#CQTThresh = 5"
   ]
  },
  {
   "cell_type": "markdown",
   "id": "2ecf24cf",
   "metadata": {},
   "source": [
    "## Koi Fish "
   ]
  },
  {
   "cell_type": "markdown",
   "id": "116b9b3d",
   "metadata": {},
   "source": [
    "Data found by MATC and used first in the adaptive spline glitch paper"
   ]
  },
  {
   "cell_type": "code",
   "execution_count": 6,
   "id": "624bb201",
   "metadata": {},
   "outputs": [],
   "source": [
    "#fileName =  glitchDir+'/'+'KOI_FISH/H-H1_LOSC_4_V1-1132929024-4096_dtrndWhtnBndpss.hdf5'\n",
    "#fileName =  glitchDir+'/'+'KOI_FISH/SHAPESRun_112622_1522/Residual.hdf5'\n",
    "#dataRange = list(range(257*4096,272*4096,1))\n",
    "#tserPlotRange = list(range(math.floor(257*4096),math.floor(272*4096),1))\n",
    "#CQTThresh = 5"
   ]
  },
  {
   "cell_type": "markdown",
   "id": "cdc0871e",
   "metadata": {},
   "source": [
    "Loudest SNR glitch in Gravity Spy from H1 in O2 with ml_confidence > 0.95"
   ]
  },
  {
   "cell_type": "code",
   "execution_count": 7,
   "id": "6a6b88aa",
   "metadata": {},
   "outputs": [],
   "source": [
    "#fileName =  glitchDir+'/'+'KOI_FISH/H-H1_GWOSC_O2_4KHZ_R1-1169846272-4096_dtrndWhtnBndpss.hdf5'\n",
    "#fileName = glitchDir+'/'+'KOI_FISH/H-H1_GWOSC_O2_4KHZ_R1-1169846272-4096_dtrndWhtnBndpss_SigInj1.hdf5'\n",
    "#fileName = glitchDir+'/'+'KOI_FISH/SHAPESRun_20221228T130409/Residual.hdf5'\n",
    "#dataRange = list(range(math.floor(830*4096),math.floor(841*4096),1))\n",
    "#tserPlotRange = list(range(math.floor(838*4096),math.floor(840*4096),1))\n",
    "#CQTThresh = 5"
   ]
  },
  {
   "cell_type": "markdown",
   "id": "04981fcf",
   "metadata": {},
   "source": [
    "## Blip"
   ]
  },
  {
   "cell_type": "markdown",
   "id": "3d1a371b",
   "metadata": {},
   "source": [
    "Data found by MATC and used first in the adaptive spline glitch paper."
   ]
  },
  {
   "cell_type": "code",
   "execution_count": 8,
   "id": "14189be4",
   "metadata": {},
   "outputs": [],
   "source": [
    "#fileName =  glitchDir+'/'+'LOUD/H-H1_LOSC_4KHZ_V1-1136365568-4096_DtrndWhtnBndps.hdf5'\n",
    "#fileName =  glitchDir+'/'+'LOUD/SHAPESRun_01-Dec-2022 19:34:33/Residual.hdf5'\n",
    "#dataRange = list(range(2533*4096,2543*4096,1))\n",
    "#CQTThresh = 5"
   ]
  },
  {
   "cell_type": "markdown",
   "id": "64f84094",
   "metadata": {},
   "source": [
    "Second loudest SNR Blip glitch in Gravity Spy from H1 in O2 with ml_confidence > 0.95. "
   ]
  },
  {
   "cell_type": "code",
   "execution_count": 9,
   "id": "edf797b6",
   "metadata": {},
   "outputs": [],
   "source": [
    "#fileName = glitchDir+'/'+'BLIP/H-H1_GWOSC_O2_4KHZ_R1-1182396416-4096_dtrndWhtnBndpss_SigInj1.hdf5'\n",
    "#fileName = glitchDir+'/'+'BLIP/SHAPESRun_20221229T125928/Residual.hdf5'\n",
    "#dataRange = list(range(927*4096,935*4096,1))\n",
    "#tserPlotRange = list(range(math.floor(930*4096),math.floor(935*4096),1))\n",
    "#CQTThresh = 5"
   ]
  }
 ],
 "metadata": {
  "kernelspec": {
   "display_name": "Python 3",
   "language": "python",
   "name": "python3"
  },
  "language_info": {
   "codemirror_mode": {
    "name": "ipython",
    "version": 3
   },
   "file_extension": ".py",
   "mimetype": "text/x-python",
   "name": "python",
   "nbconvert_exporter": "python",
   "pygments_lexer": "ipython3",
   "version": "3.8.8"
  },
  "vscode": {
   "interpreter": {
    "hash": "f22a20af907fde35ff19e1e892fdb271353fb19b11c7ebd774491472e685293c"
   }
  }
 },
 "nbformat": 4,
 "nbformat_minor": 5
}
